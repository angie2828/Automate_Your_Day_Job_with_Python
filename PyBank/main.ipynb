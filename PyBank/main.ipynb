{
 "cells": [
  {
   "cell_type": "code",
   "execution_count": 1,
   "id": "1e458b4c-9098-4fad-a01e-334677258bcb",
   "metadata": {},
   "outputs": [],
   "source": [
    "import os\n",
    "import csv\n",
    "from pathlib import Path"
   ]
  },
  {
   "cell_type": "code",
   "execution_count": 2,
   "id": "888922b7-2955-4c5e-98b2-decaf729f334",
   "metadata": {},
   "outputs": [],
   "source": [
    "budgetpath = Path(\"budget_data.csv\")"
   ]
  },
  {
   "cell_type": "code",
   "execution_count": 3,
   "id": "2196e8d6-e35e-4c0d-b3f8-974334bef444",
   "metadata": {},
   "outputs": [
    {
     "name": "stdout",
     "output_type": "stream",
     "text": [
      "['Date', 'Profit/Losses'] <<<<<<<HEADER\n",
      "['Feb-2017', 671099]\n"
     ]
    }
   ],
   "source": [
    "total_months = 0\n",
    "total_profits = 0\n",
    "average_change = 0\n",
    "max_change = -999999999\n",
    "max_change_month = \"\"\n",
    "min_change = 999999999\n",
    "min_change_month = \"\"\n",
    "prev_profit = 0\n",
    "total_change = 0\n",
    "change = 0\n",
    "\n",
    "with open(budgetpath,\"r\") as budgetfile:\n",
    "\n",
    "    csv_reader = csv.reader(budgetfile)\n",
    "#     print(csv_reader)\n",
    "    header = next(csv_reader)\n",
    "    print(header, \"<<<<<<<HEADER\")\n",
    "\n",
    "    for row in csv_reader:\n",
    "        total_months +=1\n",
    "        row[1] = int(row[1])\n",
    "        total_profits += row[1]\n",
    "        if total_months != 1:\n",
    "            change = row[1] - prev_profit\n",
    "            total_change += change\n",
    "        if max_change < change:\n",
    "            max_change = change\n",
    "            max_change_month = row[0]\n",
    "            \n",
    "        if  min_change > change:\n",
    "            min_change = change\n",
    "            min_change_month = row[0]\n",
    "            \n",
    "        \n",
    "        prev_profit = row[1]\n",
    "print(row)"
   ]
  },
  {
   "cell_type": "code",
   "execution_count": 4,
   "id": "47594672-d7d8-4c2d-a18a-daa2f6cc60f4",
   "metadata": {},
   "outputs": [
    {
     "name": "stdout",
     "output_type": "stream",
     "text": [
      "\n",
      "Financial Analysis\n",
      "----------------------------\n",
      "    Total Months: 86\n",
      "    Total: $38,382,578\n",
      "    Average Change: $-2,315.12\n",
      "    Greatest Increase in Profits: Feb-2012 ($1,926,159)\n",
      "    Greatest Decrease in Profits: Sep-2013 ($-2,196,167)\n",
      "\n"
     ]
    }
   ],
   "source": [
    "print(f\"\"\"\n",
    "Financial Analysis\n",
    "----------------------------\n",
    "    Total Months: {total_months}\n",
    "    Total: ${total_profits:,.0f}\n",
    "    Average Change: ${total_change/(total_months-1):,.2f}\n",
    "    Greatest Increase in Profits: {max_change_month} (${max_change:,.0f})\n",
    "    Greatest Decrease in Profits: {min_change_month} (${min_change:,.0f})\n",
    "\"\"\")"
   ]
  },
  {
   "cell_type": "raw",
   "id": "21067581-d72a-4f72-b953-8807fbb0caf7",
   "metadata": {},
   "source": [
    "Financial Analysis\n",
    "----------------------------\n",
    "    Total Months: 86\n",
    "    Total: $38382578\n",
    "    Average  Change: $-2315.12\n",
    "    Greatest Increase in Profits: Feb-2012 ($1926159)\n",
    "    Greatest Decrease in Profits: Sep-2013 ($-2196167)"
   ]
  }
 ],
 "metadata": {
  "kernelspec": {
   "display_name": "Python 3",
   "language": "python",
   "name": "python3"
  },
  "language_info": {
   "codemirror_mode": {
    "name": "ipython",
    "version": 3
   },
   "file_extension": ".py",
   "mimetype": "text/x-python",
   "name": "python",
   "nbconvert_exporter": "python",
   "pygments_lexer": "ipython3",
   "version": "3.8.8"
  }
 },
 "nbformat": 4,
 "nbformat_minor": 5
}
